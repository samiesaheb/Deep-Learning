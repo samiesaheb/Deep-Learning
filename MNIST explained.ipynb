{
  "nbformat": 4,
  "nbformat_minor": 0,
  "metadata": {
    "colab": {
      "name": "MNIST.ipynb",
      "provenance": [],
      "collapsed_sections": [],
      "authorship_tag": "ABX9TyPP2uWNPPxqrYY3Pt8MCDsH",
      "include_colab_link": true
    },
    "kernelspec": {
      "name": "python3",
      "display_name": "Python 3"
    },
    "language_info": {
      "name": "python"
    }
  },
  "cells": [
    {
      "cell_type": "markdown",
      "metadata": {
        "id": "view-in-github",
        "colab_type": "text"
      },
      "source": [
        "<a href=\"https://colab.research.google.com/github/samiesaheb/Deep-Learning/blob/main/MNIST%20explained.ipynb\" target=\"_parent\"><img src=\"https://colab.research.google.com/assets/colab-badge.svg\" alt=\"Open In Colab\"/></a>"
      ]
    },
    {
      "cell_type": "markdown",
      "source": [
        "Loading the MNIST dataset from the Python library Keras, the MNIST dataset consists of grayscale images of handwritten digits and their respective labels (from 0 to 9). The MNIST dataset is famous for beginners learning about Deep Learning. \n"
      ],
      "metadata": {
        "id": "xtVRhjhOI0Xa"
      }
    },
    {
      "cell_type": "code",
      "execution_count": 178,
      "metadata": {
        "id": "wHsfsVOXIYu1"
      },
      "outputs": [],
      "source": [
        "from keras.datasets import mnist\n",
        "(train_images, train_labels),(test_images, test_labels) = mnist.load_data()"
      ]
    },
    {
      "cell_type": "markdown",
      "source": [
        "Running the code below prints the shape of the training images (60000,28,28) -> 60000 indicating the number of training images and the 28's after indicating the size of the images (28x28 pixels)."
      ],
      "metadata": {
        "id": "FLKHZvp5Jp7R"
      }
    },
    {
      "cell_type": "code",
      "source": [
        "train_images.shape"
      ],
      "metadata": {
        "colab": {
          "base_uri": "https://localhost:8080/"
        },
        "id": "LRlG9SMCIvQV",
        "outputId": "80307fbd-3aca-4fa4-8860-6c03094b9cd9"
      },
      "execution_count": 179,
      "outputs": [
        {
          "output_type": "execute_result",
          "data": {
            "text/plain": [
              "(60000, 28, 28)"
            ]
          },
          "metadata": {},
          "execution_count": 179
        }
      ]
    },
    {
      "cell_type": "markdown",
      "source": [
        "Verifying there the number of training labels and training images are the same"
      ],
      "metadata": {
        "id": "FemwFOxaLCo1"
      }
    },
    {
      "cell_type": "code",
      "source": [
        "train_labels.shape"
      ],
      "metadata": {
        "colab": {
          "base_uri": "https://localhost:8080/"
        },
        "id": "z5AKESaRJZlb",
        "outputId": "db5e04e3-2ab3-4aa7-ae3e-2d8fc788296d"
      },
      "execution_count": 180,
      "outputs": [
        {
          "output_type": "execute_result",
          "data": {
            "text/plain": [
              "(60000,)"
            ]
          },
          "metadata": {},
          "execution_count": 180
        }
      ]
    },
    {
      "cell_type": "markdown",
      "source": [
        "Doing the same as above with the testing images and labels now"
      ],
      "metadata": {
        "id": "RxUDPggiMBPE"
      }
    },
    {
      "cell_type": "code",
      "source": [
        "test_images.shape"
      ],
      "metadata": {
        "colab": {
          "base_uri": "https://localhost:8080/"
        },
        "id": "-shVF4sUJcB8",
        "outputId": "020581b7-64a3-4a93-9641-3111b4c6ca6b"
      },
      "execution_count": 181,
      "outputs": [
        {
          "output_type": "execute_result",
          "data": {
            "text/plain": [
              "(10000, 28, 28)"
            ]
          },
          "metadata": {},
          "execution_count": 181
        }
      ]
    },
    {
      "cell_type": "code",
      "source": [
        "test_labels.shape"
      ],
      "metadata": {
        "colab": {
          "base_uri": "https://localhost:8080/"
        },
        "id": "R998zvxDJdAU",
        "outputId": "f3c6405b-19d3-4cad-af98-e0513f912b95"
      },
      "execution_count": 182,
      "outputs": [
        {
          "output_type": "execute_result",
          "data": {
            "text/plain": [
              "(10000,)"
            ]
          },
          "metadata": {},
          "execution_count": 182
        }
      ]
    },
    {
      "cell_type": "markdown",
      "source": [
        "We can check to see whether the labels corresponding to the train images are correct, indexing starts from 0, we will check what number the 1st image shows"
      ],
      "metadata": {
        "id": "U4YKL2aqeVQv"
      }
    },
    {
      "cell_type": "code",
      "source": [
        "import matplotlib.pyplot as plt\n",
        "\n",
        "plt.imshow(train_images[0])\n",
        "plt.show()"
      ],
      "metadata": {
        "colab": {
          "base_uri": "https://localhost:8080/",
          "height": 265
        },
        "id": "YI9lUEB9d7j2",
        "outputId": "bf317ec3-3442-4e38-ccb1-fee8c029fe56"
      },
      "execution_count": 183,
      "outputs": [
        {
          "output_type": "display_data",
          "data": {
            "text/plain": [
              "<Figure size 432x288 with 1 Axes>"
            ],
            "image/png": "[encoded data removed]"
          },
          "metadata": {
            "needs_background": "light"
          }
        }
      ]
    },
    {
      "cell_type": "markdown",
      "source": [
        "As you can see the first training image is an image of the digit 5, lets see if the first label in the training labels corresponds to this"
      ],
      "metadata": {
        "id": "nTgLWvKMetlj"
      }
    },
    {
      "cell_type": "markdown",
      "source": [
        ""
      ],
      "metadata": {
        "id": "E2JGh1amd-S_"
      }
    },
    {
      "cell_type": "code",
      "source": [
        "train_labels[0]"
      ],
      "metadata": {
        "colab": {
          "base_uri": "https://localhost:8080/"
        },
        "id": "yw4N0pRZdt7L",
        "outputId": "547621eb-b4be-448b-be06-363af591c995"
      },
      "execution_count": 184,
      "outputs": [
        {
          "output_type": "execute_result",
          "data": {
            "text/plain": [
              "5"
            ]
          },
          "metadata": {},
          "execution_count": 184
        }
      ]
    },
    {
      "cell_type": "markdown",
      "source": [
        "Okay so we can be sure that the training images and their corresponding labels are correct, to make sure of this, try out checking other indexes of images and labels to see if they are correct"
      ],
      "metadata": {
        "id": "V4-oGJAQe9xO"
      }
    },
    {
      "cell_type": "markdown",
      "source": [
        "Now, we have to scale the images pixel values to be between 0 and 1. This is done by dividing each pixels values by 255 (the current images pixel values range between 0 and 255 currently, dividing by the max pixel value will allow us to shrink the values to be between [0,1]. We also have to convert the datatype of the array of pixels to float32 as it will enable us to store more contents in memory. \n",
        "\n",
        "We also will need to reshape the images to be (# of samples in dataset, pixel_size x pixel_size). For example for the training set we reshape it to be (60000, 28x28) = (60000, 784). \n",
        "\n",
        "We can do both of this using the 'reshape_and_normalize' function defined below."
      ],
      "metadata": {
        "id": "nUb5bp2-auhO"
      }
    },
    {
      "cell_type": "code",
      "source": [
        "def reshape_and_normalize(image):\n",
        "  image = image.reshape((image.shape[0],28*28))\n",
        "  image = image.astype('float32') / 255.\n",
        "  return image"
      ],
      "metadata": {
        "id": "CA8yZF_8Jd6f"
      },
      "execution_count": 185,
      "outputs": []
    },
    {
      "cell_type": "markdown",
      "source": [
        "We apply the 'reshape_and_normalize' function on the training images and testing images."
      ],
      "metadata": {
        "id": "1wvkFdTBdCHR"
      }
    },
    {
      "cell_type": "code",
      "source": [
        "train_images = reshape_and_normalize(train_images)"
      ],
      "metadata": {
        "id": "kranj-QiiOfn"
      },
      "execution_count": 186,
      "outputs": []
    },
    {
      "cell_type": "code",
      "source": [
        "test_images = reshape_and_normalize(test_images)"
      ],
      "metadata": {
        "id": "K0VF_jTrZr4G"
      },
      "execution_count": 187,
      "outputs": []
    },
    {
      "cell_type": "markdown",
      "source": [
        "The preprocessing stage is over, now we can build the neural network architecture. We have to import the [TensorFlow](https://en.wikipedia.org/wiki/TensorFlow) library in order to do this. Tensorflow is a free and open source library used for Machine Learning and Artificial Intelligence, developed by Google."
      ],
      "metadata": {
        "id": "Pmt1IqXRgXT-"
      }
    },
    {
      "cell_type": "code",
      "source": [
        "from tensorflow.keras import models\n",
        "from tensorflow.keras import layers"
      ],
      "metadata": {
        "id": "xqDGDf7FgVhI"
      },
      "execution_count": 188,
      "outputs": []
    },
    {
      "cell_type": "markdown",
      "source": [
        "We create the neural network  by creating the Sequential class used from the TensorFlow library. In to this Sequential class we have to add layers, the layers are combined in \"sequential\" order to create the network. Here we create a simple network consisting of only 2 layers. A layer takes as input a matrix and outputs one or more matrices. \n",
        "\n",
        "For simple matrices like the images we are dealing with, we use a Dense layer (also called a fully connected layer), the first Dense layer taking as input a matrix where the first dimension is 784 (28x28). This layer will return a matrix whose first dimension is changed to 512.\n",
        "\n",
        "The second Dense layer takes this matrix from the first layer and changes its dimensions such that the outputs first dimension is 10. "
      ],
      "metadata": {
        "id": "NbLd2IZz3EH4"
      }
    },
    {
      "cell_type": "code",
      "source": [
        "network = models.Sequential()\n",
        "\n",
        "network.add(layers.Dense(512, activation='relu', input_shape=(28*28,)))\n",
        "network.add(layers.Dense(10, activation='softmax'))"
      ],
      "metadata": {
        "id": "GCkvx_6kghew"
      },
      "execution_count": 189,
      "outputs": []
    },
    {
      "cell_type": "code",
      "source": [
        "network.compile(optimizer='rmsprop',loss='categorical_crossentropy',metrics=['accuracy'])"
      ],
      "metadata": {
        "id": "gNdfF7Jcg8Mk"
      },
      "execution_count": 190,
      "outputs": []
    },
    {
      "cell_type": "markdown",
      "source": [
        "Before we can train the model on the dataset, we have to convert the labels into a matrix of shape (10,1), where all the of the entries of the matrix are zeros apart from the index corresponding to to the label, with an entry of 1, e.g.\n",
        "\n",
        "If the class_label is 5, this gets converted to a matrix of shape (10,1):\n",
        "-> \n",
        "[0,0,0,0,0,1,0,0,0]\n",
        "The 5th index (indexing starts from 0) is set to 1, indicating that label corresponds to class 5 -> image which has the digit 5.\n"
      ],
      "metadata": {
        "id": "dhXNTjZLE8fv"
      }
    },
    {
      "cell_type": "code",
      "source": [
        "from tensorflow.keras.utils import to_categorical\n",
        "\n",
        "train_labels = to_categorical(train_labels)\n",
        "test_labels = to_categorical(test_labels)"
      ],
      "metadata": {
        "id": "IqbA5bHPj0j7"
      },
      "execution_count": 191,
      "outputs": []
    },
    {
      "cell_type": "markdown",
      "source": [
        "We can now start training the model on the training images and training labels using 'network.fit' which takes in the train images, train labels, epochs (indicating how many times you want the model to pass the the entire dataset), and the batch size (indicating how many samples of the dataset you want to process before the model is updated (its weights) in such a way as to improve training.)"
      ],
      "metadata": {
        "id": "HWZY2Is6HwRv"
      }
    },
    {
      "cell_type": "code",
      "source": [
        "network.fit(train_images, train_labels, epochs=5, batch_size=128)"
      ],
      "metadata": {
        "colab": {
          "base_uri": "https://localhost:8080/"
        },
        "id": "T94fI7GQhdCZ",
        "outputId": "67001a19-1729-4cc9-943b-48b567f620c8"
      },
      "execution_count": 192,
      "outputs": [
        {
          "output_type": "stream",
          "name": "stdout",
          "text": [
            "Epoch 1/5\n",
            "469/469 [==============================] - 7s 14ms/step - loss: 0.2556 - accuracy: 0.9265\n",
            "Epoch 2/5\n",
            "469/469 [==============================] - 5s 11ms/step - loss: 0.1030 - accuracy: 0.9697\n",
            "Epoch 3/5\n",
            "469/469 [==============================] - 5s 11ms/step - loss: 0.0678 - accuracy: 0.9793\n",
            "Epoch 4/5\n",
            "469/469 [==============================] - 5s 11ms/step - loss: 0.0499 - accuracy: 0.9851\n",
            "Epoch 5/5\n",
            "469/469 [==============================] - 6s 12ms/step - loss: 0.0369 - accuracy: 0.9891\n"
          ]
        },
        {
          "output_type": "execute_result",
          "data": {
            "text/plain": [
              "<keras.callbacks.History at 0x7fb6bd5fadd0>"
            ]
          },
          "metadata": {},
          "execution_count": 192
        }
      ]
    },
    {
      "cell_type": "markdown",
      "source": [
        "The model is trained, as you can see the model after 5 epochs has improved such that it tends to be be accurate about 98.8% of the time at predicting the label of the image. We can now test to see how well this model does on the testing set."
      ],
      "metadata": {
        "id": "jsaGP2R5Izjw"
      }
    },
    {
      "cell_type": "code",
      "source": [
        "(loss, acc) = network.evaluate(test_images, test_labels)"
      ],
      "metadata": {
        "colab": {
          "base_uri": "https://localhost:8080/"
        },
        "id": "82NwF9A2JJ_7",
        "outputId": "8ee971f3-1dde-456d-bcad-b91329e8fc75"
      },
      "execution_count": 198,
      "outputs": [
        {
          "output_type": "stream",
          "name": "stdout",
          "text": [
            "313/313 [==============================] - 1s 4ms/step - loss: 0.0681 - accuracy: 0.9799\n"
          ]
        }
      ]
    },
    {
      "cell_type": "code",
      "source": [
        "acc"
      ],
      "metadata": {
        "colab": {
          "base_uri": "https://localhost:8080/"
        },
        "id": "LnWj-0u0Llgy",
        "outputId": "a29cd429-05d0-4b64-d0ae-28bd5925f4f1"
      },
      "execution_count": 199,
      "outputs": [
        {
          "output_type": "execute_result",
          "data": {
            "text/plain": [
              "0.9799000024795532"
            ]
          },
          "metadata": {},
          "execution_count": 199
        }
      ]
    },
    {
      "cell_type": "markdown",
      "source": [
        "As you can see, the model is accurate 97.99 ~ 98% of the time, this is a decrease from the models performance on the training set but still highly accurate as classifying digits it has not seen before. We can check out one sample to see if it truly is this accurate. We will check what label the model predicts for the first testing image (0th index)."
      ],
      "metadata": {
        "id": "VACIFIajLxrr"
      }
    },
    {
      "cell_type": "code",
      "source": [
        "check_image = test_images[0].reshape(28,28)"
      ],
      "metadata": {
        "id": "dxWv8875_04m"
      },
      "execution_count": 160,
      "outputs": []
    },
    {
      "cell_type": "code",
      "source": [
        "plt.imshow(check_image)\n",
        "plt.show()"
      ],
      "metadata": {
        "colab": {
          "base_uri": "https://localhost:8080/",
          "height": 265
        },
        "id": "6jRV9xKj-yBH",
        "outputId": "fa97d89a-4037-4bc9-8e3e-6c8af2b3878f"
      },
      "execution_count": 161,
      "outputs": [
        {
          "output_type": "display_data",
          "data": {
            "text/plain": [
              "<Figure size 432x288 with 1 Axes>"
            ],
            "image/png": "[encoded data removed]"
          },
          "metadata": {
            "needs_background": "light"
          }
        }
      ]
    },
    {
      "cell_type": "code",
      "source": [
        "test_labels[0]"
      ],
      "metadata": {
        "colab": {
          "base_uri": "https://localhost:8080/"
        },
        "id": "bzx_hyVjAj24",
        "outputId": "d24a2e55-87c2-468a-f911-31d6aa28b172"
      },
      "execution_count": 175,
      "outputs": [
        {
          "output_type": "execute_result",
          "data": {
            "text/plain": [
              "array([0., 0., 0., 0., 0., 0., 0., 1., 0., 0.], dtype=float32)"
            ]
          },
          "metadata": {},
          "execution_count": 175
        }
      ]
    },
    {
      "cell_type": "markdown",
      "source": [
        "As the test_labels were converted to a matrix earlier, we can use a function called np.argmax imported from the NumPy library to find the index with the greatest value in the matrix, corresponding to what class that image is."
      ],
      "metadata": {
        "id": "xADj1Zx6MaOw"
      }
    },
    {
      "cell_type": "code",
      "source": [
        "import numpy as np\n",
        "np.argmax(test_labels[0])"
      ],
      "metadata": {
        "colab": {
          "base_uri": "https://localhost:8080/"
        },
        "id": "zr3E5FA7Apd-",
        "outputId": "1ef42f5e-4340-4e9f-c52e-d51d9436b307"
      },
      "execution_count": 172,
      "outputs": [
        {
          "output_type": "execute_result",
          "data": {
            "text/plain": [
              "7"
            ]
          },
          "metadata": {},
          "execution_count": 172
        }
      ]
    },
    {
      "cell_type": "markdown",
      "source": [
        "The label does correspond to what the testing image is, we now compare the actual truth (the testing label) with the label that the model predicts when feeding this test image."
      ],
      "metadata": {
        "id": "KG_qc_zAMovJ"
      }
    },
    {
      "cell_type": "code",
      "source": [
        "predict_test0 = network.predict(test_images[0].reshape(1,28*28))\n",
        "predict_test0"
      ],
      "metadata": {
        "colab": {
          "base_uri": "https://localhost:8080/"
        },
        "id": "PKcTXjIl_H7a",
        "outputId": "a87fbf4f-f60e-4a15-8def-c1c9f0048fac"
      },
      "execution_count": 202,
      "outputs": [
        {
          "output_type": "execute_result",
          "data": {
            "text/plain": [
              "array([[1.7215118e-10, 6.5750530e-11, 9.0090658e-08, 4.7797307e-06,\n",
              "        7.6368782e-14, 4.2867399e-09, 1.6655525e-16, 9.9999511e-01,\n",
              "        1.8644941e-09, 1.3250711e-08]], dtype=float32)"
            ]
          },
          "metadata": {},
          "execution_count": 202
        }
      ]
    },
    {
      "cell_type": "markdown",
      "source": [
        "Using the argmax function"
      ],
      "metadata": {
        "id": "-YNnT7TNNPnK"
      }
    },
    {
      "cell_type": "code",
      "source": [
        "np.argmax(predict0)"
      ],
      "metadata": {
        "colab": {
          "base_uri": "https://localhost:8080/"
        },
        "id": "FBG4___D_MTi",
        "outputId": "2b879e3f-eeb4-4931-b764-9400746c878b"
      },
      "execution_count": 203,
      "outputs": [
        {
          "output_type": "execute_result",
          "data": {
            "text/plain": [
              "7"
            ]
          },
          "metadata": {},
          "execution_count": 203
        }
      ]
    },
    {
      "cell_type": "markdown",
      "source": [
        "Hooray, we the models prediction for the first image in the testing set was same as the actual label for that image, we can see evidence that the model is indeed highly accurate at predicting the label of an image. Try testing this out on more images."
      ],
      "metadata": {
        "id": "H5v0ySMSNTLA"
      }
    },
    {
      "cell_type": "code",
      "source": [
        ""
      ],
      "metadata": {
        "id": "lwaCfXtXNskL"
      },
      "execution_count": null,
      "outputs": []
    }
  ]
}